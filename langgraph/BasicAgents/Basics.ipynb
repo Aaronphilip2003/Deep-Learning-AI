{
 "cells": [
  {
   "cell_type": "markdown",
   "metadata": {},
   "source": [
    "### Typed Dict"
   ]
  },
  {
   "cell_type": "code",
   "execution_count": 1,
   "metadata": {},
   "outputs": [
    {
     "data": {
      "text/plain": [
       "{'title': 'Catch Me If You Can', 'year': 2002}"
      ]
     },
     "execution_count": 1,
     "metadata": {},
     "output_type": "execute_result"
    }
   ],
   "source": [
    "from typing import TypedDict\n",
    "\n",
    "class Movie(TypedDict):\n",
    "    title: str\n",
    "    year: int\n",
    "\n",
    "movie = Movie(title=\"Catch Me If You Can\", year=2002)\n",
    "movie"
   ]
  },
  {
   "cell_type": "markdown",
   "metadata": {},
   "source": [
    "### Union"
   ]
  },
  {
   "cell_type": "code",
   "execution_count": 4,
   "metadata": {},
   "outputs": [
    {
     "name": "stdout",
     "output_type": "stream",
     "text": [
      "4\n",
      "6.25\n"
     ]
    }
   ],
   "source": [
    "from typing import Union\n",
    "\n",
    "def square(x: Union[int,float]) -> float:\n",
    "    return x*x\n",
    "\n",
    "x=square(2)\n",
    "y=square(2.5)\n",
    "print(x)\n",
    "print(y)"
   ]
  },
  {
   "cell_type": "markdown",
   "metadata": {},
   "source": [
    "### Optional"
   ]
  },
  {
   "cell_type": "code",
   "execution_count": 9,
   "metadata": {},
   "outputs": [
    {
     "name": "stdout",
     "output_type": "stream",
     "text": [
      "Hello! Aaron, how are you doing today?\n",
      "Hello random person\n"
     ]
    }
   ],
   "source": [
    "from typing import Optional\n",
    "\n",
    "def greeting(name: Optional[str] = None) -> None:\n",
    "    if name is None:\n",
    "        print(\"Hello random person\")\n",
    "    else:\n",
    "        print(f\"Hello! {name}, how are you doing today?\")\n",
    "\n",
    "greeting(\"Aaron\")\n",
    "greeting()"
   ]
  },
  {
   "cell_type": "markdown",
   "metadata": {},
   "source": [
    "### Any"
   ]
  },
  {
   "cell_type": "code",
   "execution_count": 10,
   "metadata": {},
   "outputs": [
    {
     "name": "stdout",
     "output_type": "stream",
     "text": [
      "Aaron\n",
      "3\n"
     ]
    }
   ],
   "source": [
    "from typing import Any\n",
    "\n",
    "def print_value(x:Any):\n",
    "    print(x)\n",
    "\n",
    "print_value(\"Aaron\")\n",
    "print_value(3)"
   ]
  },
  {
   "cell_type": "markdown",
   "metadata": {},
   "source": [
    "### Lambda Functions"
   ]
  },
  {
   "cell_type": "code",
   "execution_count": 11,
   "metadata": {},
   "outputs": [
    {
     "data": {
      "text/plain": [
       "[1, 4, 9, 16]"
      ]
     },
     "execution_count": 11,
     "metadata": {},
     "output_type": "execute_result"
    }
   ],
   "source": [
    "nums= [1,2,3,4]\n",
    "squares = list(map(lambda x: x*x, nums))\n",
    "squares"
   ]
  },
  {
   "cell_type": "markdown",
   "metadata": {},
   "source": [
    "## State\n",
    "\n",
    "- State is a shared data structure that holds current information or context of the entire application\n"
   ]
  },
  {
   "cell_type": "markdown",
   "metadata": {},
   "source": [
    "## Nodes\n",
    "\n",
    "- Perform a specific task within a graph\n",
    "- Receives an input, which is often just the current state of the application and produces an updated state"
   ]
  },
  {
   "cell_type": "markdown",
   "metadata": {},
   "source": [
    "\n",
    "## Graph\n",
    "\n",
    "- A graph in Langgraph is a data structure that maps out how different nodes are connected and executed"
   ]
  },
  {
   "cell_type": "markdown",
   "metadata": {},
   "source": [
    "## Edges\n",
    "\n",
    "- Connection between nodes that determine the flow of execution"
   ]
  },
  {
   "cell_type": "markdown",
   "metadata": {},
   "source": [
    "## Conditional Edges\n",
    "\n",
    "- Specialized connections that decide the next node based on specific conditions or logic applied to the current state"
   ]
  },
  {
   "cell_type": "markdown",
   "metadata": {},
   "source": [
    "## START\n",
    "\n",
    "- Start of the workflow"
   ]
  },
  {
   "cell_type": "markdown",
   "metadata": {},
   "source": [
    "## END \n",
    "\n",
    "- End of the workflow"
   ]
  },
  {
   "cell_type": "markdown",
   "metadata": {},
   "source": [
    "## Tools\n",
    "\n",
    "- Specialized functions or utilities that nodes can utilize to perform specific tasks"
   ]
  },
  {
   "cell_type": "markdown",
   "metadata": {},
   "source": [
    "## ToolNode\n",
    "\n",
    "- A ToolNode is a node whose main job is to run a tool"
   ]
  },
  {
   "cell_type": "markdown",
   "metadata": {},
   "source": [
    "## StateGraph\n",
    "\n",
    "- A StateGraph is a **class** in Langgraph that is used to build and compile the graph structure"
   ]
  },
  {
   "cell_type": "markdown",
   "metadata": {},
   "source": [
    "## Runnable\n",
    "\n",
    "- A runnable is a standardized, executable component that performs a specific task within an AI workflow"
   ]
  },
  {
   "cell_type": "markdown",
   "metadata": {},
   "source": [
    "# Types of Messages in Langgraph\n",
    "\n",
    "#### 1. Human Message : Represents an input from the user\n",
    "#### 2. System Message : Used to provide instructions or context to the model\n",
    "#### 3. Function Message : Represents the result of a function call\n",
    "#### 4. AI Message : Represents responses generated by AI Models\n",
    "#### 5. Tool Message : Specific to Tool Usage\n",
    "\n"
   ]
  }
 ],
 "metadata": {
  "kernelspec": {
   "display_name": "deeplearningai",
   "language": "python",
   "name": "python3"
  },
  "language_info": {
   "codemirror_mode": {
    "name": "ipython",
    "version": 3
   },
   "file_extension": ".py",
   "mimetype": "text/x-python",
   "name": "python",
   "nbconvert_exporter": "python",
   "pygments_lexer": "ipython3",
   "version": "3.9.6"
  }
 },
 "nbformat": 4,
 "nbformat_minor": 2
}
