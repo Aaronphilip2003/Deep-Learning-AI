{
 "cells": [
  {
   "cell_type": "code",
   "execution_count": 3,
   "metadata": {},
   "outputs": [],
   "source": [
    "from typing import TypedDict,List\n",
    "from langgraph.graph import StateGraph, END\n",
    "from langchain.prompts import PromptTemplate\n",
    "from langchain.schema import HumanMessage\n",
    "from langchain_core.runnables.graph import MermaidDrawMethod\n",
    "from IPython.display import display, Image"
   ]
  },
  {
   "cell_type": "code",
   "execution_count": 4,
   "metadata": {},
   "outputs": [],
   "source": [
    "class State(TypedDict):\n",
    "  text: str\n",
    "  classification: str\n",
    "  entities: List[str]\n",
    "  summary: str"
   ]
  },
  {
   "cell_type": "code",
   "execution_count": 4,
   "metadata": {},
   "outputs": [],
   "source": [
    "from langchain_groq import ChatGroq"
   ]
  },
  {
   "cell_type": "code",
   "execution_count": 7,
   "metadata": {},
   "outputs": [],
   "source": [
    "llm = ChatGroq(\n",
    "    temperature=0,\n",
    "    groq_api_key = \"\",\n",
    "    model_name = \"llama-3.3-70b-versatile\"\n",
    ")\n"
   ]
  },
  {
   "cell_type": "code",
   "execution_count": 8,
   "metadata": {},
   "outputs": [],
   "source": [
    "def classification_node(state: State):\n",
    "  \"Research, News, Blog or Others\"\n",
    "  prompt = PromptTemplate(\n",
    "      input_variable = [\"text\"],\n",
    "      template = \"Classify the following text into one of the categories: News, Blog, Research , or Other. \\n\\nText:{text}\\n\\nCategory:\"\n",
    "  )\n",
    "  message = HumanMessage(content = prompt.format(text = state[\"text\"]))\n",
    "  classification = llm.invoke([message]).content.strip()\n",
    "  return {\"classification\":classification}"
   ]
  },
  {
   "cell_type": "code",
   "execution_count": 10,
   "metadata": {},
   "outputs": [],
   "source": [
    "def entity_extraction_node(state: State):\n",
    "  prompt = PromptTemplate(\n",
    "      input_variables=[\"text\"],\n",
    "      template = \"Extract all the entities (Person, Organization, Location) from the following text. Provide the result as a comma separated list. \\n\\nText:{text}\\n\\nEntities:\"\n",
    "  )\n",
    "  message = HumanMessage(content = prompt.format(text = state[\"text\"]))\n",
    "  entities = llm.invoke([message]).content.strip().split(\", \")\n",
    "  return {\"entities\": entities}"
   ]
  },
  {
   "cell_type": "code",
   "execution_count": 12,
   "metadata": {},
   "outputs": [],
   "source": [
    "def summarization_node(state: State):\n",
    "  prompt = PromptTemplate(\n",
    "      input_variable = [\"text\"],\n",
    "      template = \"Summarize the following text in one short sentence. \\n\\nText:{text}\\n\\nSummary:\"\n",
    "  )\n",
    "  message = HumanMessage(content = prompt.format(text = state[\"text\"]))\n",
    "  summary = llm.invoke([message]).content.strip()\n",
    "  return {\"summary\":summary}"
   ]
  },
  {
   "cell_type": "code",
   "execution_count": 13,
   "metadata": {},
   "outputs": [],
   "source": [
    "workflow = StateGraph(State)\n",
    "\n",
    "workflow.add_node(\"classification_node\", classification_node)\n",
    "workflow.add_node(\"entity_extraction_node\", entity_extraction_node)\n",
    "workflow.add_node(\"summarization_node\", summarization_node)\n",
    "\n",
    "workflow.set_entry_point(\"classification_node\")\n",
    "\n",
    "workflow.add_edge(\"classification_node\", \"entity_extraction_node\")\n",
    "workflow.add_edge(\"entity_extraction_node\", \"summarization_node\")\n",
    "workflow.add_edge(\"summarization_node\", END)\n",
    "\n",
    "app = workflow.compile()"
   ]
  },
  {
   "cell_type": "code",
   "execution_count": 14,
   "metadata": {},
   "outputs": [
    {
     "data": {
      "image/png": "[encoded data removed]",
      "text/plain": [
       "<IPython.core.display.Image object>"
      ]
     },
     "metadata": {},
     "output_type": "display_data"
    }
   ],
   "source": [
    "display(\n",
    "    Image(\n",
    "        app.get_graph().draw_mermaid_png(\n",
    "            draw_method=MermaidDrawMethod.API\n",
    "        )\n",
    "    )\n",
    ")"
   ]
  },
  {
   "cell_type": "code",
   "execution_count": 15,
   "metadata": {},
   "outputs": [],
   "source": [
    "SAMPLE_TEXT = \"\"\"You Need Much Less Memory than Time\n",
    "Just as I was complaining that we haven't seen many surprising breakthroughs in complexity recently, we get an earthquake of a result to start the year, showing that all algorithms can be simulated using considerable less memory than the time of the original algorithm. You can reuse space (memory) but you can't reuse time, and this new result from Ryan Williams in an upcoming STOC paper provides the first stark difference.\n",
    "\n",
    "DTIME(\n",
    ") \n",
    " DSPACE(\n",
    ")\n",
    "\n",
    "This is a vast improvement on the previous best known simulation, the classic 1977 Hopcroft-Paul-Valiant paper showing\n",
    "\n",
    "DTIME(\n",
    ") \n",
    " DSPACE(\n",
    ")\n",
    "\n",
    "only slightly lower than the trivial \n",
    " bound. Williams gets a huge near quadratic improvement that will go down as a true classic complexity theorem. Note that the space simulation does not maintain the time bound.\n",
    "\n",
    "Williams' proof relies on a space-efficient tree evaluation algorithm by James Cook and Ian Mertz from last year's STOC conference. Cook and Mertz's algorithm builds on earlier work on catalytic computing, highlighted in a recent Quanta article. \n",
    "\n",
    "Let me give an highly overly simplified view of the combined proof.\n",
    "\n",
    "A \n",
    " time Turing machine uses at most that much space on its tapes. Split the tapes into \n",
    " segments of size \n",
    ". Using the fact that it takes \n",
    " time to cross an entire segment, Williams with some clever tricks models acceptance of the Turing machines as a circuit of bounded degree and depth \n",
    ", where the wires carry the contents of the size \n",
    " segments at various times in the computation. \n",
    "\n",
    "Williams then applies the tree evaluation algorithm of Cook and Mertz. Cook and Mertz use finite fields to encode these segments as a combination of registers of size \n",
    " and show how to compute the value of each node of the tree using only \n",
    " space for the local computation plus needing to only remember a constant number of registers while reusing the rest of the space when recursively computing the tree. It's pretty magical how they manage to make it all work. \n",
    "\n",
    "It's worth going through the proof yourself. I recommend Sections 3.1 and Footnote 6 in Williams' paper (a slightly weaker space bound but much simpler) and Sections 2-4 of the Cook-Mertz paper. Oded Goldreich has an alternative exposition of the Cook-Mertz algorithm and proof.\n",
    "\n",
    "Williams' theorem works for multitape Turing machines and oblivious random-access machines, where the queries to the memory are fixed in advance. He shows how to use this result to compute the output a circuit of size \n",
    " using nearly \n",
    " space. Fully general random access machines remains open, as does nondeterministic and other models of computation (random, quantum, etc).\n",
    "\n",
    "In 1986 my advisor Mike Sipser gave the first hardness vs randomness result, showing roughly that if there were problems that took time \n",
    " but could not be solved in space \n",
    " on multi-tape Turing machines then RP = P. Williams' theorem kills this assumption though we've developed weaker assumptions since. \n",
    "\n",
    "Moving forward, can we push Williams' result to get a simulation in space \n",
    " for \n",
    ". A simulation for all \n",
    " would separate P from PSPACE. Even a slight improvement would have applications for alternating time. Maybe try to use the Cook-Mertz techniques directly in the Turing machine simulation instead of going through computation trees.\n",
    "\n",
    "Read sections 4 and 5 of Williams' paper for some further consequences and challenges for further improvements. \"\"\"\n",
    "\n",
    "state_input = {\"text\": SAMPLE_TEXT}\n",
    "result = app.invoke(state_input)"
   ]
  },
  {
   "cell_type": "code",
   "execution_count": 16,
   "metadata": {},
   "outputs": [
    {
     "name": "stdout",
     "output_type": "stream",
     "text": [
      "Classification : Category: Blog \n",
      "\n",
      "The text appears to be a blog post due to its informal and conversational tone, as well as the presence of personal opinions and anecdotes. The author is discussing a recent research result and providing an overview of the proof, but the language used is not as formal as one would expect in a research paper. Additionally, the text includes personal references, such as the author's advisor, and encourages readers to explore certain sections of the research paper, which is typical of a blog post.\n",
      "\n",
      "Entities : ['Ryan Williams', 'James Cook', 'Ian Mertz', 'Hopcroft', 'Paul', 'Valiant', 'Oded Goldreich', 'Mike Sipser', 'Quanta', 'STOC.']\n",
      "\n",
      "Summary : Ryan Williams has made a breakthrough in complexity theory, proving that all algorithms can be simulated using significantly less memory than their original time complexity.\n"
     ]
    }
   ],
   "source": [
    "print(\"Classification :\", result[\"classification\"])\n",
    "print(\"\\nEntities :\", result[\"entities\"])\n",
    "print(\"\\nSummary :\", result[\"summary\"])"
   ]
  },
  {
   "cell_type": "code",
   "execution_count": null,
   "metadata": {},
   "outputs": [],
   "source": []
  }
 ],
 "metadata": {
  "kernelspec": {
   "display_name": "deeplearningai",
   "language": "python",
   "name": "python3"
  },
  "language_info": {
   "codemirror_mode": {
    "name": "ipython",
    "version": 3
   },
   "file_extension": ".py",
   "mimetype": "text/x-python",
   "name": "python",
   "nbconvert_exporter": "python",
   "pygments_lexer": "ipython3",
   "version": "3.9.6"
  }
 },
 "nbformat": 4,
 "nbformat_minor": 2
}
