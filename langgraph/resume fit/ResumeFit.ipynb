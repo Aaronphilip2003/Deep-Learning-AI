{
 "cells": [
  {
   "cell_type": "markdown",
   "metadata": {},
   "source": [
    "## Reading JD"
   ]
  },
  {
   "cell_type": "code",
   "execution_count": 25,
   "metadata": {},
   "outputs": [],
   "source": [
    "import PyPDF2\n",
    "\n",
    "def job_description(file_path):\n",
    "    with open(file_path, 'rb') as file:\n",
    "        reader = PyPDF2.PdfReader(file)\n",
    "        text = \"\"\n",
    "        for page in reader.pages:\n",
    "            text += page.extract_text() + \"\\n\"\n",
    "    return text\n"
   ]
  },
  {
   "cell_type": "markdown",
   "metadata": {},
   "source": [
    "## Reading Resume"
   ]
  },
  {
   "cell_type": "code",
   "execution_count": 26,
   "metadata": {},
   "outputs": [],
   "source": [
    "import PyPDF2\n",
    "\n",
    "def applicant_resume(file_path):\n",
    "    with open(file_path, 'rb') as file:\n",
    "        reader = PyPDF2.PdfReader(file)\n",
    "        text = \"\"\n",
    "        for page in reader.pages:\n",
    "            text += page.extract_text() + \"\\n\"\n",
    "    return text\n",
    "\n",
    "# text_applicant=applicant_resume(\"genairesume.pdf\") \n",
    "# print(text_applicant)"
   ]
  },
  {
   "cell_type": "code",
   "execution_count": 59,
   "metadata": {},
   "outputs": [],
   "source": [
    "from typing import TypedDict\n",
    "from langgraph.graph import StateGraph, END\n",
    "from langchain.prompts import PromptTemplate\n",
    "from langchain.schema import HumanMessage\n",
    "from langchain_groq import ChatGroq\n",
    "\n",
    "class State(TypedDict):\n",
    "    job_description: str\n",
    "    applicant_resume: str\n",
    "    summary: str\n",
    "    job_fit_analysis: str\n",
    "    score: str"
   ]
  },
  {
   "cell_type": "markdown",
   "metadata": {},
   "source": [
    "## Creating Nodes"
   ]
  },
  {
   "cell_type": "code",
   "execution_count": 27,
   "metadata": {},
   "outputs": [],
   "source": [
    "from langgraph.graph import StateGraph, END\n",
    "from langchain.prompts import PromptTemplate\n",
    "from langchain.schema import HumanMessage\n",
    "from langchain_core.runnables.graph import MermaidDrawMethod\n",
    "from IPython.display import display, Image\n",
    "from langchain_groq import ChatGroq"
   ]
  },
  {
   "cell_type": "code",
   "execution_count": 28,
   "metadata": {},
   "outputs": [],
   "source": [
    "llm = ChatGroq(\n",
    "    temperature=0,\n",
    "    groq_api_key = \"\",\n",
    "    model_name = \"llama-3.3-70b-versatile\"\n",
    ")"
   ]
  },
  {
   "cell_type": "code",
   "execution_count": 35,
   "metadata": {},
   "outputs": [],
   "source": [
    "applicant_resume_text = applicant_resume(\"genairesume.pdf\")\n",
    "job_description_text = job_description(\"sampleJD.pdf\")"
   ]
  },
  {
   "cell_type": "code",
   "execution_count": 60,
   "metadata": {},
   "outputs": [],
   "source": [
    "def summary_node(state: State) -> State:\n",
    "    prompt = PromptTemplate(\n",
    "        input_variables=[\"text\"],\n",
    "        template = \"Summarize the following applicant's resume into a concise overview focusing on their key skills, work experience, and accomplishments relevant to [Job Role/Industry]. Keep it short and concise only 1 paragraph. {text}\"\n",
    "    )\n",
    "    message = HumanMessage(content = prompt.format(text = state[\"applicant_resume\"]))\n",
    "    summary = llm.invoke([message]).content\n",
    "    return {**state, \"summary\": summary}\n",
    "\n",
    "# summary = summary_node(applicant_resume_text)\n",
    "# print(summary)"
   ]
  },
  {
   "cell_type": "code",
   "execution_count": 61,
   "metadata": {},
   "outputs": [],
   "source": [
    "def job_fit_node(state: State) -> State:\n",
    "    prompt = PromptTemplate(\n",
    "        input_variables=[\"job_description\", \"applicant_resume\"],\n",
    "        template = \"You are a hiring expert. Based on the following job description and applicant's resume, determine if the applicant is a good fit for the job. \\n\\nJob Description: {job_description} \\n\\nApplicant Resume: {applicant_resume}\"\n",
    "    )\n",
    "    message = HumanMessage(content = prompt.format(\n",
    "        job_description = state[\"job_description\"], \n",
    "        applicant_resume = state[\"applicant_resume\"]\n",
    "    ))\n",
    "    analysis = llm.invoke([message]).content\n",
    "    return {**state, \"job_fit_analysis\": analysis}"
   ]
  },
  {
   "cell_type": "code",
   "execution_count": 63,
   "metadata": {},
   "outputs": [],
   "source": [
    "def score_node(state: State) -> State:\n",
    "    prompt = PromptTemplate(\n",
    "        input_variables=[\"job_description\", \"applicant_resume\"],\n",
    "        template = \"You are a hiring expert. You are given a job description and an applicant's resume. You need to score the applicant's resume based on the job description. \\n\\nJob Description: {job_description} \\n\\nApplicant Resume: {applicant_resume}. Only give a score nothing else.\"\n",
    "    )\n",
    "    message = HumanMessage(content = prompt.format(\n",
    "        job_description = state[\"job_description\"], \n",
    "        applicant_resume = state[\"applicant_resume\"]\n",
    "    ))\n",
    "    score = llm.invoke([message]).content\n",
    "    return {**state, \"score\": score}"
   ]
  },
  {
   "cell_type": "code",
   "execution_count": 64,
   "metadata": {},
   "outputs": [],
   "source": [
    "workflow = StateGraph(State)\n",
    "\n",
    "workflow.add_node(\"summary_node\", summary_node)\n",
    "workflow.add_node(\"job_fit_node\", job_fit_node)\n",
    "workflow.add_node(\"score_node\", score_node)\n",
    "\n",
    "workflow.set_entry_point(\"summary_node\")\n",
    "\n",
    "workflow.add_edge(\"summary_node\", \"job_fit_node\")\n",
    "workflow.add_edge(\"job_fit_node\", \"score_node\")\n",
    "workflow.add_edge(\"score_node\", END)\n",
    "\n",
    "app = workflow.compile()"
   ]
  },
  {
   "cell_type": "code",
   "execution_count": 65,
   "metadata": {},
   "outputs": [
    {
     "data": {
      "image/png": "[encoded data removed]",
      "text/plain": [
       "<IPython.core.display.Image object>"
      ]
     },
     "metadata": {},
     "output_type": "display_data"
    }
   ],
   "source": [
    "display(\n",
    "    Image(\n",
    "        app.get_graph().draw_mermaid_png(\n",
    "            draw_method=MermaidDrawMethod.API\n",
    "        )\n",
    "    )\n",
    ")"
   ]
  },
  {
   "cell_type": "code",
   "execution_count": 66,
   "metadata": {},
   "outputs": [
    {
     "name": "stdout",
     "output_type": "stream",
     "text": [
      "\n",
      "Final State:\n",
      "Summary: Yunlong Jiao is a seasoned machine learning scientist with over 5 years of post-PhD experience, currently working at Amazon Alexa. He possesses strong skills in model development, performance evaluation, and proficiency in Python and deep learning frameworks. With a strong background in natural language processing, large language models, and deep generative models, Yunlong has led research on bias mitigation technologies and built/deployed ML solutions for Alexa Shopping. He has a proven track record of delivering projects, supervising research internships, and mentoring junior team members, making him a strong candidate for roles in AI research and development.\n",
      "Job Fit Analysis: Based on the job description and the applicant's resume, I believe that Yunlong Jiao is a strong fit for the Artificial Intelligence Engineer position at Company X. Here's why:\n",
      "\n",
      "1. **Relevant experience**: Yunlong has over 5 years of post-PhD experience in machine learning and AI, with a strong background in deep learning, natural language processing, and computer vision. His experience at Amazon Alexa, University of Oxford, and PSL Research University demonstrates his ability to apply AI to practical and comprehensive technology solutions.\n",
      "2. **Technical skills**: Yunlong's technical skills align well with the job requirements, including proficiency in Python, deep learning frameworks (PyTorch, MXNet), and experience with cloud computing (AWS, SageMaker). He also has experience with big data, accelerated computing, and DevOps tools.\n",
      "3. **Leadership and collaboration**: As a machine learning scientist at Amazon Alexa, Yunlong has led research projects, supervised research internships, and coached junior team members. He has also worked in cross-functional teams, communicating results with stakeholders and overseeing prototype to production. This experience demonstrates his ability to lead and collaborate with others, which is essential for the AI engineer role.\n",
      "4. **Communication and presentation skills**: Yunlong has experience presenting at international conferences and workshops, and he is confident in presenting project ideas and results to peers, leadership, and stakeholders. He is also proficient in academic writing and has produced technical reports on milestone deliveries.\n",
      "5. **Alignment with job objectives**: Yunlong's experience and skills align with the job objectives, including managing and directing processes and R&D, understanding company and client challenges, and leading cross-functional teams to identify and prioritize key areas where AI solutions can drive significant business benefit.\n",
      "6. **Preferred skills and qualifications**: While not all preferred skills and qualifications are explicitly mentioned in Yunlong's resume, his experience and education suggest that he may possess some of these skills, such as experience with innovation accelerators and cloud environments.\n",
      "\n",
      "Overall, Yunlong Jiao's strong technical background, leadership experience, and collaboration skills make him a strong fit for the Artificial Intelligence Engineer position at Company X.\n",
      "Score: 9.5/10\n"
     ]
    }
   ],
   "source": [
    "state_input = {\n",
    "    \"job_description\": job_description_text,\n",
    "    \"applicant_resume\": applicant_resume_text,\n",
    "    \"summary\": \"\",\n",
    "    \"job_fit_analysis\": \"\",\n",
    "    \"score\": \"\"\n",
    "}\n",
    "\n",
    "result = app.invoke(state_input)\n",
    "print(\"\\nFinal State:\")\n",
    "print(f\"Summary: {result['summary']}\")\n",
    "print(f\"Job Fit Analysis: {result['job_fit_analysis']}\")\n",
    "print(f\"Score: {result['score']}\")"
   ]
  },
  {
   "cell_type": "code",
   "execution_count": null,
   "metadata": {},
   "outputs": [],
   "source": []
  }
 ],
 "metadata": {
  "kernelspec": {
   "display_name": "deeplearningai",
   "language": "python",
   "name": "python3"
  },
  "language_info": {
   "codemirror_mode": {
    "name": "ipython",
    "version": 3
   },
   "file_extension": ".py",
   "mimetype": "text/x-python",
   "name": "python",
   "nbconvert_exporter": "python",
   "pygments_lexer": "ipython3",
   "version": "3.9.6"
  }
 },
 "nbformat": 4,
 "nbformat_minor": 2
}
